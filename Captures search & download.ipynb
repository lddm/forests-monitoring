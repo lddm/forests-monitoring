{
 "cells": [
  {
   "cell_type": "code",
   "execution_count": 49,
   "id": "092ac8f9",
   "metadata": {
    "pycharm": {
     "is_executing": false
    }
   },
   "outputs": [],
   "source": [
    "import os\n",
    "import getpass\n",
    "import tenacity\n",
    "import sentinelsat\n",
    "import ntpath\n",
    "import telluric as tl\n",
    "\n",
    "DATA_DIR = '/media/lddm/LDDM/forest_monitoring'\n",
    "DOWNLOADS_DIR = DATA_DIR + '/archives'\n",
    "NUMBER_OF_PRODUCTS = 2"
   ]
  },
  {
   "cell_type": "code",
   "execution_count": 47,
   "id": "889db3e4",
   "metadata": {
    "pycharm": {
     "is_executing": false
    }
   },
   "outputs": [],
   "source": [
    "def get_products_filenames(downloaded):\n",
    "    products_filenames = {}\n",
    "    for product_id, product_info in downloaded.items():\n",
    "        products_filenames[product_id] = ntpath.basename(product_info['path'])\n",
    "        \n",
    "    return products_filenames"
   ]
  },
  {
   "cell_type": "markdown",
   "id": "7a2faaca",
   "metadata": {},
   "source": [
    "### Obtain scihub credentials"
   ]
  },
  {
   "cell_type": "code",
   "execution_count": 20,
   "id": "1969a493",
   "metadata": {
    "pycharm": {
     "is_executing": false
    }
   },
   "outputs": [],
   "source": [
    "if not ('SCIHUB_USERNAME' in os.environ and\n",
    "        'SCIHUB_PASSWORD' in os.environ):\n",
    "    os.environ['SCIHUB_USERNAME'] = input('Scihub Username:')\n",
    "    os.environ['SCIHUB_PASSWORD'] = getpass.getpass('Scihub Password:')"
   ]
  },
  {
   "cell_type": "code",
   "execution_count": 27,
   "id": "91a1c83f",
   "metadata": {
    "pycharm": {
     "is_executing": false
    }
   },
   "outputs": [],
   "source": [
    "# connect to the API\n",
    "from sentinelsat import SentinelAPI, read_geojson, geojson_to_wkt\n",
    "from datetime import date\n",
    "\n",
    "api = SentinelAPI(os.environ['SCIHUB_USERNAME'], os.environ['SCIHUB_PASSWORD'],\n",
    "                  'https://scihub.copernicus.eu/dhus')\n",
    "\n",
    "# search by polygon, time, and SciHub query keywords\n",
    "footprint = geojson_to_wkt(read_geojson('ROIs/uruguay_forest.geojson'))\n",
    "products = api.query(footprint,\n",
    "                     date=('NOW-14DAYS', 'NOW'),\n",
    "                     platformname='Sentinel-2',\n",
    "                     cloudcoverpercentage=(0, 30),\n",
    "                     producttype='S2MSI2A')"
   ]
  },
  {
   "cell_type": "code",
   "execution_count": 28,
   "id": "3a6111d5",
   "metadata": {
    "pycharm": {
     "is_executing": false
    }
   },
   "outputs": [
    {
     "data": {
      "text/plain": "['9c66e7ed-acb8-4a1d-bee9-b0686254e154',\n '28a35512-af84-456f-bf8e-335e59d12e3a']"
     },
     "metadata": {},
     "output_type": "execute_result",
     "execution_count": 28
    }
   ],
   "source": [
    "products_id_to_download = list(products.keys())[:2]\n",
    "products_id_to_download"
   ]
  },
  {
   "cell_type": "code",
   "execution_count": 29,
   "id": "6eac2305",
   "metadata": {
    "scrolled": true,
    "pycharm": {
     "is_executing": false
    }
   },
   "outputs": [],
   "source": [
    "# download all results from the search\n",
    "@tenacity.retry(stop=tenacity.stop_after_attempt(3), wait=tenacity.wait_fixed(3600))\n",
    "def download_all(*args, **kwargs):\n",
    "    return api.download_all(*args, **kwargs)\n",
    "\n",
    "downloaded, triggered, failed = download_all(products_id_to_download, directory_path=DOWNLOADS_DIR)\n",
    "\n",
    "# print('Downloaded {}'.format(downloaded))\n",
    "# print('Triggered {}'.format(triggered))\n",
    "# print('Failed {}'.format(failed))"
   ]
  },
  {
   "cell_type": "code",
   "execution_count": 37,
   "id": "69baa9a5",
   "metadata": {
    "pycharm": {
     "is_executing": false
    }
   },
   "outputs": [
    {
     "name": "stdout",
     "text": [
      "{'9c66e7ed-acb8-4a1d-bee9-b0686254e154': {'id': '9c66e7ed-acb8-4a1d-bee9-b0686254e154', 'title': 'S2B_MSIL2A_20210422T133219_N0300_R081_T21HXE_20210422T154725', 'size': 80935060, 'md5': 'ccb3a0a713bbcfa492b9a0984ec4472d', 'date': datetime.datetime(2021, 4, 22, 13, 32, 19, 24000), 'footprint': 'POLYGON((-54.96396 -32.608302309198976,-54.956207 -32.58273095098718,-54.911865 -32.435942372453425,-54.867584 -32.28913852765143,-54.823547 -32.142223277939145,-54.77957 -31.995315974316185,-54.779114 -31.993716684108204,-54.76425 -32.605676852027074,-54.96396 -32.608302309198976))', 'url': \"https://scihub.copernicus.eu/dhus/odata/v1/Products('9c66e7ed-acb8-4a1d-bee9-b0686254e154')/$value\", 'Online': True, 'Creation Date': datetime.datetime(2021, 4, 24, 13, 43, 39, 291000), 'Ingestion Date': datetime.datetime(2021, 4, 22, 21, 36, 50, 239000), 'path': '/media/lddm/LDDM/forest_monitoring/archives/S2B_MSIL2A_20210422T133219_N0300_R081_T21HXE_20210422T154725.zip', 'downloaded_bytes': 0}, '28a35512-af84-456f-bf8e-335e59d12e3a': {'id': '28a35512-af84-456f-bf8e-335e59d12e3a', 'title': 'S2A_MSIL2A_20210420T134211_N0300_R124_T21HXE_20210420T173838', 'size': 1166267463, 'md5': 'bb4b040f718be52b6fee2f1fe6af532c', 'date': datetime.datetime(2021, 4, 20, 13, 42, 11, 24000), 'footprint': 'POLYGON((-55.94553084961541 -31.630651381282295,-54.78826663175968 -31.615847631239873,-54.7642609994994 -32.605676852027074,-55.93407695587678 -32.621056589882144,-55.94553084961541 -31.630651381282295))', 'url': \"https://scihub.copernicus.eu/dhus/odata/v1/Products('28a35512-af84-456f-bf8e-335e59d12e3a')/$value\", 'Online': True, 'Creation Date': datetime.datetime(2021, 4, 20, 21, 27, 20, 965000), 'Ingestion Date': datetime.datetime(2021, 4, 20, 21, 15, 15, 236000), 'path': '/media/lddm/LDDM/forest_monitoring/archives/S2A_MSIL2A_20210420T134211_N0300_R124_T21HXE_20210420T173838.zip', 'downloaded_bytes': 0}}\n"
     ],
     "output_type": "stream"
    }
   ],
   "source": [
    "print(downloaded)"
   ]
  },
  {
   "cell_type": "code",
   "execution_count": 41,
   "id": "7176f665",
   "metadata": {
    "pycharm": {
     "is_executing": false
    }
   },
   "outputs": [
    {
     "data": {
      "text/plain": "{'9c66e7ed-acb8-4a1d-bee9-b0686254e154': 'S2B_MSIL2A_20210422T133219_N0300_R081_T21HXE_20210422T154725.zip',\n '28a35512-af84-456f-bf8e-335e59d12e3a': 'S2A_MSIL2A_20210420T134211_N0300_R124_T21HXE_20210420T173838.zip'}"
     },
     "metadata": {},
     "output_type": "execute_result",
     "execution_count": 41
    }
   ],
   "source": [
    "products_filenames = get_products_filenames(downloaded)\n",
    "products_filenames"
   ]
  },
  {
   "cell_type": "markdown",
   "id": "3ef0e0b0",
   "metadata": {},
   "source": [
    "### Automatically obtain `True Color Image (TCI)` from downloaded package and save it as a GeoTiff"
   ]
  },
  {
   "cell_type": "code",
   "execution_count": 48,
   "id": "39f27115",
   "metadata": {
    "pycharm": {
     "is_executing": false
    }
   },
   "outputs": [
    {
     "name": "stdout",
     "text": [
      "S2B_MSIL2A_20210422T133219_N0300_R081_T21HXE_20210422T154725.zip\n",
      "S2A_MSIL2A_20210420T134211_N0300_R124_T21HXE_20210420T173838.zip\n"
     ],
     "output_type": "stream"
    },
    {
     "name": "stderr",
     "text": [
      "/home/lddm/Development/forests-monitoring/.venv_37/lib/python3.7/site-packages/calval/providers/scene_info.py:29: UserWarning: /media/lddm/LDDM/forest_monitoring/scenes/S2B_MSIL2A_20210422T133219_N0300_R081_T21HXE_20210422T154725.SAFE already exists, not extracting\n",
      "  warnings.warn('{} already exists, not extracting'.format(output_path))\n",
      "/home/lddm/Development/forests-monitoring/.venv_37/lib/python3.7/site-packages/calval/providers/scene_info.py:29: UserWarning: /media/lddm/LDDM/forest_monitoring/scenes/S2A_MSIL2A_20210420T134211_N0300_R124_T21HXE_20210420T173838.SAFE already exists, not extracting\n",
      "  warnings.warn('{} already exists, not extracting'.format(output_path))\n"
     ],
     "output_type": "stream"
    }
   ],
   "source": [
    "import calval\n",
    "from calval.providers.sentinel import SceneInfo, SceneData\n",
    "\n",
    "# scene_id = next(iter(products)) \n",
    "# filenames = products[scene_id]['filename'].replace('.SAFE', '.zip')\n",
    "# print(filenames)\n",
    "# print('Uploading file : ', filenames)\n",
    "scenes_info = {}\n",
    "scenes_data = {}\n",
    "for product_id, product_filename in products_filenames.items():\n",
    "    config = {\n",
    "        'data_dir': DATA_DIR\n",
    "    }\n",
    "    print(product_filename)\n",
    "    scene_info = SceneInfo.from_filename(filename=product_filename, config=config)\n",
    "    scene_info.extract_archive()\n",
    "    scenes_data[product_id] = SceneData.from_sceneinfo(scene_info)\n",
    "    scenes_info[product_id] = scene_info"
   ]
  },
  {
   "cell_type": "code",
   "execution_count": null,
   "outputs": [],
   "source": [
    "### Automatically obtain `True Color Image (TCI)` from downloaded package and save it as a GeoTiff\n"
   ],
   "metadata": {
    "collapsed": false,
    "pycharm": {
     "name": "#%%\n"
    }
   }
  },
  {
   "cell_type": "code",
   "execution_count": 51,
   "id": "8a1fc17e",
   "metadata": {
    "pycharm": {
     "is_executing": false
    }
   },
   "outputs": [],
   "source": [
    "for product_id, scene_info in scenes_info.items():\n",
    "    tci_path = scene_info.get_band_path('TCI')\n",
    "    geo_raster = tl.GeoRaster2.open(tci_path)\n",
    "    geo_raster.save(product_id + '.tif')"
   ]
  },
  {
   "cell_type": "code",
   "execution_count": null,
   "id": "594c3e31",
   "metadata": {
    "scrolled": true
   },
   "outputs": [],
   "source": [
    "geo_raster"
   ]
  },
  {
   "cell_type": "code",
   "execution_count": null,
   "id": "86897331",
   "metadata": {
    "scrolled": false
   },
   "outputs": [],
   "source": [
    "geo_raster.save('test_s2.tiff')"
   ]
  }
 ],
 "metadata": {
  "kernelspec": {
   "display_name": "Python 3",
   "language": "python",
   "name": "python3"
  },
  "language_info": {
   "codemirror_mode": {
    "name": "ipython",
    "version": 3
   },
   "file_extension": ".py",
   "mimetype": "text/x-python",
   "name": "python",
   "nbconvert_exporter": "python",
   "pygments_lexer": "ipython3",
   "version": "3.7.5"
  },
  "pycharm": {
   "stem_cell": {
    "cell_type": "raw",
    "source": [],
    "metadata": {
     "collapsed": false
    }
   }
  }
 },
 "nbformat": 4,
 "nbformat_minor": 5
}